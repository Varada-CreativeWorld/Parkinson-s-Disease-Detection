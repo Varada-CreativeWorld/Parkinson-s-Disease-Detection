{
  "nbformat": 4,
  "nbformat_minor": 0,
  "metadata": {
    "colab": {
      "name": "Parkinson's Disease Detection.ipynb",
      "provenance": [],
      "authorship_tag": "ABX9TyNpEJfmTBa4J6sf9ZCIOUx+",
      "include_colab_link": true
    },
    "kernelspec": {
      "name": "python3",
      "display_name": "Python 3"
    },
    "language_info": {
      "name": "python"
    }
  },
  "cells": [
    {
      "cell_type": "markdown",
      "metadata": {
        "id": "view-in-github",
        "colab_type": "text"
      },
      "source": [
        "<a href=\"https://colab.research.google.com/github/Varada-CreativeWorld/Parkinson-s-Disease-Detection/blob/main/Parkinson's_Disease_Detection.ipynb\" target=\"_parent\"><img src=\"https://colab.research.google.com/assets/colab-badge.svg\" alt=\"Open In Colab\"/></a>"
      ]
    },
    {
      "cell_type": "code",
      "metadata": {
        "colab": {
          "base_uri": "https://localhost:8080/"
        },
        "id": "IeZr4jDvKdGc",
        "outputId": "4ee5e2bd-c883-473a-dcf6-e53f925495ab"
      },
      "source": [
        "from google.colab import drive\n",
        "drive.mount('/gdrive')"
      ],
      "execution_count": null,
      "outputs": [
        {
          "output_type": "stream",
          "name": "stdout",
          "text": [
            "Mounted at /gdrive\n"
          ]
        }
      ]
    },
    {
      "cell_type": "code",
      "metadata": {
        "colab": {
          "base_uri": "https://localhost:8080/"
        },
        "id": "5ojXpUOEK_sM",
        "outputId": "36e9e0d6-9aa8-47fd-9740-e179ed9c9682"
      },
      "source": [
        "%cd ..\n"
      ],
      "execution_count": null,
      "outputs": [
        {
          "output_type": "stream",
          "name": "stdout",
          "text": [
            "/\n"
          ]
        }
      ]
    },
    {
      "cell_type": "code",
      "metadata": {
        "colab": {
          "base_uri": "https://localhost:8080/"
        },
        "id": "JLkJzqKcK_uZ",
        "outputId": "8975e652-b2cf-4204-95d4-9f93f97bbf25"
      },
      "source": [
        "%ls\n"
      ],
      "execution_count": null,
      "outputs": [
        {
          "output_type": "stream",
          "name": "stdout",
          "text": [
            "\u001b[0m\u001b[01;34mbin\u001b[0m/      \u001b[01;34mdev\u001b[0m/     \u001b[01;34mlib\u001b[0m/    \u001b[01;34mmnt\u001b[0m/         \u001b[01;34mroot\u001b[0m/  \u001b[01;34msys\u001b[0m/                \u001b[01;34musr\u001b[0m/\n",
            "\u001b[01;34mboot\u001b[0m/     \u001b[01;34metc\u001b[0m/     \u001b[01;34mlib32\u001b[0m/  \u001b[01;34mopt\u001b[0m/         \u001b[01;34mrun\u001b[0m/   \u001b[01;34mtensorflow-1.15.2\u001b[0m/  \u001b[01;34mvar\u001b[0m/\n",
            "\u001b[01;34mcontent\u001b[0m/  \u001b[01;34mgdrive\u001b[0m/  \u001b[01;34mlib64\u001b[0m/  \u001b[01;34mproc\u001b[0m/        \u001b[01;34msbin\u001b[0m/  \u001b[30;42mtmp\u001b[0m/\n",
            "\u001b[01;34mdatalab\u001b[0m/  \u001b[01;34mhome\u001b[0m/    \u001b[01;34mmedia\u001b[0m/  \u001b[01;34mpython-apt\u001b[0m/  \u001b[01;34msrv\u001b[0m/   \u001b[01;34mtools\u001b[0m/\n"
          ]
        }
      ]
    },
    {
      "cell_type": "code",
      "metadata": {
        "colab": {
          "base_uri": "https://localhost:8080/"
        },
        "id": "iQZZdle6LSCH",
        "outputId": "97668235-1e42-4b13-ed28-b8b12220a4bd"
      },
      "source": [
        "%cd gdrive/\n"
      ],
      "execution_count": null,
      "outputs": [
        {
          "output_type": "stream",
          "name": "stdout",
          "text": [
            "/gdrive\n"
          ]
        }
      ]
    },
    {
      "cell_type": "code",
      "metadata": {
        "colab": {
          "base_uri": "https://localhost:8080/"
        },
        "id": "FA48YzKHLjWF",
        "outputId": "9822edfe-a774-4491-af82-a19c58a3ef62"
      },
      "source": [
        "%cd MyDrive"
      ],
      "execution_count": null,
      "outputs": [
        {
          "output_type": "stream",
          "name": "stdout",
          "text": [
            "/gdrive/MyDrive\n"
          ]
        }
      ]
    },
    {
      "cell_type": "code",
      "metadata": {
        "colab": {
          "base_uri": "https://localhost:8080/"
        },
        "id": "o_L410CtLjYY",
        "outputId": "eb2283b4-dc34-4691-e9b5-510734a77257"
      },
      "source": [
        "%ls"
      ],
      "execution_count": null,
      "outputs": [
        {
          "output_type": "stream",
          "name": "stdout",
          "text": [
            " 1.pdf\n",
            " Admission_Predict_Ver1.1.csv\n",
            "'bandicam 2021-08-28 10-14-09-242.mp4'\n",
            " Bisag_Report.docx\n",
            "\u001b[0m\u001b[01;34m'Colab Notebooks'\u001b[0m/\n",
            "'Copy of Formally Solicited Project Proposal by Slidesgo.gslides'\n",
            "'dhz-xeri-cka - Jun 5, 2021 (1).gjam'\n",
            "'dhz-xeri-cka - Jun 5, 2021.gjam'\n",
            " F14_BISAG_REPORT.gslides\n",
            " F14_Internship_Report.pdf\n",
            "'General presentation.gslides'\n",
            "'Getting started.pdf'\n",
            "'mwt-eoqu-syr - Jun 26, 2021.gjam'\n",
            " parkinsons.data\n",
            " \u001b[01;34mPPracticals\u001b[0m/\n",
            "'Project Wireframes.gslides'\n",
            "'Prototyping presentation (1).gslides'\n",
            "'Prototyping presentation (2).gslides'\n",
            "'Prototyping presentation (3).gslides'\n",
            "'Prototyping presentation.gslides'\n",
            "'SGP 7th SEM.gslides'\n",
            " try.json.txt\n",
            "'Varada_Nair_Resume (1).pdf'\n",
            "'Varada_Nair_Resume (2).pdf'\n",
            " Varada_Nair_Resume.pdf\n",
            " VARADA_NAIR_RESUME.pdf\n"
          ]
        }
      ]
    },
    {
      "cell_type": "markdown",
      "metadata": {
        "id": "ZQdqCMF1Sd-6"
      },
      "source": [
        "ENSEMBLE METHOD"
      ]
    },
    {
      "cell_type": "code",
      "metadata": {
        "id": "34mKwYbeSjzu"
      },
      "source": [
        "\n",
        "import pandas as pd\n",
        "import numpy as np\n",
        "\n",
        "from collections import Counter\n",
        "\n",
        "from sklearn.model_selection import train_test_split,GridSearchCV\n",
        "\n",
        "from sklearn.metrics import classification_report, confusion_matrix, accuracy_score\n",
        "\n",
        "from sklearn.linear_model import LogisticRegression\n",
        "from xgboost import XGBClassifier\n",
        "from sklearn.svm import SVC\n",
        "\n",
        "from sklearn.ensemble import StackingClassifier\n",
        "\n",
        "seed=42"
      ],
      "execution_count": null,
      "outputs": []
    },
    {
      "cell_type": "code",
      "metadata": {
        "colab": {
          "base_uri": "https://localhost:8080/",
          "height": 224
        },
        "id": "I8yCd9uUSq2h",
        "outputId": "a9808c30-3d64-4abb-fb3b-9c237924e49a"
      },
      "source": [
        "df = pd.read_csv('parkinsons.data')\n",
        "df.head()"
      ],
      "execution_count": null,
      "outputs": [
        {
          "output_type": "execute_result",
          "data": {
            "text/html": [
              "<div>\n",
              "<style scoped>\n",
              "    .dataframe tbody tr th:only-of-type {\n",
              "        vertical-align: middle;\n",
              "    }\n",
              "\n",
              "    .dataframe tbody tr th {\n",
              "        vertical-align: top;\n",
              "    }\n",
              "\n",
              "    .dataframe thead th {\n",
              "        text-align: right;\n",
              "    }\n",
              "</style>\n",
              "<table border=\"1\" class=\"dataframe\">\n",
              "  <thead>\n",
              "    <tr style=\"text-align: right;\">\n",
              "      <th></th>\n",
              "      <th>name</th>\n",
              "      <th>MDVP:Fo(Hz)</th>\n",
              "      <th>MDVP:Fhi(Hz)</th>\n",
              "      <th>MDVP:Flo(Hz)</th>\n",
              "      <th>MDVP:Jitter(%)</th>\n",
              "      <th>MDVP:Jitter(Abs)</th>\n",
              "      <th>MDVP:RAP</th>\n",
              "      <th>MDVP:PPQ</th>\n",
              "      <th>Jitter:DDP</th>\n",
              "      <th>MDVP:Shimmer</th>\n",
              "      <th>MDVP:Shimmer(dB)</th>\n",
              "      <th>Shimmer:APQ3</th>\n",
              "      <th>Shimmer:APQ5</th>\n",
              "      <th>MDVP:APQ</th>\n",
              "      <th>Shimmer:DDA</th>\n",
              "      <th>NHR</th>\n",
              "      <th>HNR</th>\n",
              "      <th>status</th>\n",
              "      <th>RPDE</th>\n",
              "      <th>DFA</th>\n",
              "      <th>spread1</th>\n",
              "      <th>spread2</th>\n",
              "      <th>D2</th>\n",
              "      <th>PPE</th>\n",
              "    </tr>\n",
              "  </thead>\n",
              "  <tbody>\n",
              "    <tr>\n",
              "      <th>0</th>\n",
              "      <td>phon_R01_S01_1</td>\n",
              "      <td>119.992</td>\n",
              "      <td>157.302</td>\n",
              "      <td>74.997</td>\n",
              "      <td>0.00784</td>\n",
              "      <td>0.00007</td>\n",
              "      <td>0.00370</td>\n",
              "      <td>0.00554</td>\n",
              "      <td>0.01109</td>\n",
              "      <td>0.04374</td>\n",
              "      <td>0.426</td>\n",
              "      <td>0.02182</td>\n",
              "      <td>0.03130</td>\n",
              "      <td>0.02971</td>\n",
              "      <td>0.06545</td>\n",
              "      <td>0.02211</td>\n",
              "      <td>21.033</td>\n",
              "      <td>1</td>\n",
              "      <td>0.414783</td>\n",
              "      <td>0.815285</td>\n",
              "      <td>-4.813031</td>\n",
              "      <td>0.266482</td>\n",
              "      <td>2.301442</td>\n",
              "      <td>0.284654</td>\n",
              "    </tr>\n",
              "    <tr>\n",
              "      <th>1</th>\n",
              "      <td>phon_R01_S01_2</td>\n",
              "      <td>122.400</td>\n",
              "      <td>148.650</td>\n",
              "      <td>113.819</td>\n",
              "      <td>0.00968</td>\n",
              "      <td>0.00008</td>\n",
              "      <td>0.00465</td>\n",
              "      <td>0.00696</td>\n",
              "      <td>0.01394</td>\n",
              "      <td>0.06134</td>\n",
              "      <td>0.626</td>\n",
              "      <td>0.03134</td>\n",
              "      <td>0.04518</td>\n",
              "      <td>0.04368</td>\n",
              "      <td>0.09403</td>\n",
              "      <td>0.01929</td>\n",
              "      <td>19.085</td>\n",
              "      <td>1</td>\n",
              "      <td>0.458359</td>\n",
              "      <td>0.819521</td>\n",
              "      <td>-4.075192</td>\n",
              "      <td>0.335590</td>\n",
              "      <td>2.486855</td>\n",
              "      <td>0.368674</td>\n",
              "    </tr>\n",
              "    <tr>\n",
              "      <th>2</th>\n",
              "      <td>phon_R01_S01_3</td>\n",
              "      <td>116.682</td>\n",
              "      <td>131.111</td>\n",
              "      <td>111.555</td>\n",
              "      <td>0.01050</td>\n",
              "      <td>0.00009</td>\n",
              "      <td>0.00544</td>\n",
              "      <td>0.00781</td>\n",
              "      <td>0.01633</td>\n",
              "      <td>0.05233</td>\n",
              "      <td>0.482</td>\n",
              "      <td>0.02757</td>\n",
              "      <td>0.03858</td>\n",
              "      <td>0.03590</td>\n",
              "      <td>0.08270</td>\n",
              "      <td>0.01309</td>\n",
              "      <td>20.651</td>\n",
              "      <td>1</td>\n",
              "      <td>0.429895</td>\n",
              "      <td>0.825288</td>\n",
              "      <td>-4.443179</td>\n",
              "      <td>0.311173</td>\n",
              "      <td>2.342259</td>\n",
              "      <td>0.332634</td>\n",
              "    </tr>\n",
              "    <tr>\n",
              "      <th>3</th>\n",
              "      <td>phon_R01_S01_4</td>\n",
              "      <td>116.676</td>\n",
              "      <td>137.871</td>\n",
              "      <td>111.366</td>\n",
              "      <td>0.00997</td>\n",
              "      <td>0.00009</td>\n",
              "      <td>0.00502</td>\n",
              "      <td>0.00698</td>\n",
              "      <td>0.01505</td>\n",
              "      <td>0.05492</td>\n",
              "      <td>0.517</td>\n",
              "      <td>0.02924</td>\n",
              "      <td>0.04005</td>\n",
              "      <td>0.03772</td>\n",
              "      <td>0.08771</td>\n",
              "      <td>0.01353</td>\n",
              "      <td>20.644</td>\n",
              "      <td>1</td>\n",
              "      <td>0.434969</td>\n",
              "      <td>0.819235</td>\n",
              "      <td>-4.117501</td>\n",
              "      <td>0.334147</td>\n",
              "      <td>2.405554</td>\n",
              "      <td>0.368975</td>\n",
              "    </tr>\n",
              "    <tr>\n",
              "      <th>4</th>\n",
              "      <td>phon_R01_S01_5</td>\n",
              "      <td>116.014</td>\n",
              "      <td>141.781</td>\n",
              "      <td>110.655</td>\n",
              "      <td>0.01284</td>\n",
              "      <td>0.00011</td>\n",
              "      <td>0.00655</td>\n",
              "      <td>0.00908</td>\n",
              "      <td>0.01966</td>\n",
              "      <td>0.06425</td>\n",
              "      <td>0.584</td>\n",
              "      <td>0.03490</td>\n",
              "      <td>0.04825</td>\n",
              "      <td>0.04465</td>\n",
              "      <td>0.10470</td>\n",
              "      <td>0.01767</td>\n",
              "      <td>19.649</td>\n",
              "      <td>1</td>\n",
              "      <td>0.417356</td>\n",
              "      <td>0.823484</td>\n",
              "      <td>-3.747787</td>\n",
              "      <td>0.234513</td>\n",
              "      <td>2.332180</td>\n",
              "      <td>0.410335</td>\n",
              "    </tr>\n",
              "  </tbody>\n",
              "</table>\n",
              "</div>"
            ],
            "text/plain": [
              "             name  MDVP:Fo(Hz)  MDVP:Fhi(Hz)  ...   spread2        D2       PPE\n",
              "0  phon_R01_S01_1      119.992       157.302  ...  0.266482  2.301442  0.284654\n",
              "1  phon_R01_S01_2      122.400       148.650  ...  0.335590  2.486855  0.368674\n",
              "2  phon_R01_S01_3      116.682       131.111  ...  0.311173  2.342259  0.332634\n",
              "3  phon_R01_S01_4      116.676       137.871  ...  0.334147  2.405554  0.368975\n",
              "4  phon_R01_S01_5      116.014       141.781  ...  0.234513  2.332180  0.410335\n",
              "\n",
              "[5 rows x 24 columns]"
            ]
          },
          "metadata": {},
          "execution_count": 8
        }
      ]
    },
    {
      "cell_type": "code",
      "metadata": {
        "colab": {
          "base_uri": "https://localhost:8080/"
        },
        "id": "FmOxV2eJSq4p",
        "outputId": "23a41ab4-85d8-43c3-b16b-22864985755e"
      },
      "source": [
        "df.shape"
      ],
      "execution_count": null,
      "outputs": [
        {
          "output_type": "execute_result",
          "data": {
            "text/plain": [
              "(195, 24)"
            ]
          },
          "metadata": {},
          "execution_count": 9
        }
      ]
    },
    {
      "cell_type": "code",
      "metadata": {
        "colab": {
          "base_uri": "https://localhost:8080/"
        },
        "id": "oQZdwF1MSq6y",
        "outputId": "b56eb38e-02bc-4137-eb96-d193810604d5"
      },
      "source": [
        "df.info()"
      ],
      "execution_count": null,
      "outputs": [
        {
          "output_type": "stream",
          "name": "stdout",
          "text": [
            "<class 'pandas.core.frame.DataFrame'>\n",
            "RangeIndex: 195 entries, 0 to 194\n",
            "Data columns (total 24 columns):\n",
            " #   Column            Non-Null Count  Dtype  \n",
            "---  ------            --------------  -----  \n",
            " 0   name              195 non-null    object \n",
            " 1   MDVP:Fo(Hz)       195 non-null    float64\n",
            " 2   MDVP:Fhi(Hz)      195 non-null    float64\n",
            " 3   MDVP:Flo(Hz)      195 non-null    float64\n",
            " 4   MDVP:Jitter(%)    195 non-null    float64\n",
            " 5   MDVP:Jitter(Abs)  195 non-null    float64\n",
            " 6   MDVP:RAP          195 non-null    float64\n",
            " 7   MDVP:PPQ          195 non-null    float64\n",
            " 8   Jitter:DDP        195 non-null    float64\n",
            " 9   MDVP:Shimmer      195 non-null    float64\n",
            " 10  MDVP:Shimmer(dB)  195 non-null    float64\n",
            " 11  Shimmer:APQ3      195 non-null    float64\n",
            " 12  Shimmer:APQ5      195 non-null    float64\n",
            " 13  MDVP:APQ          195 non-null    float64\n",
            " 14  Shimmer:DDA       195 non-null    float64\n",
            " 15  NHR               195 non-null    float64\n",
            " 16  HNR               195 non-null    float64\n",
            " 17  status            195 non-null    int64  \n",
            " 18  RPDE              195 non-null    float64\n",
            " 19  DFA               195 non-null    float64\n",
            " 20  spread1           195 non-null    float64\n",
            " 21  spread2           195 non-null    float64\n",
            " 22  D2                195 non-null    float64\n",
            " 23  PPE               195 non-null    float64\n",
            "dtypes: float64(22), int64(1), object(1)\n",
            "memory usage: 36.7+ KB\n"
          ]
        }
      ]
    },
    {
      "cell_type": "code",
      "metadata": {
        "colab": {
          "base_uri": "https://localhost:8080/"
        },
        "id": "aN96mtTISq9T",
        "outputId": "70799600-f731-463c-ee5a-b36f1fe0436a"
      },
      "source": [
        "print(Counter(df['status']))"
      ],
      "execution_count": null,
      "outputs": [
        {
          "output_type": "stream",
          "name": "stdout",
          "text": [
            "Counter({1: 147, 0: 48})\n"
          ]
        }
      ]
    },
    {
      "cell_type": "code",
      "metadata": {
        "colab": {
          "base_uri": "https://localhost:8080/"
        },
        "id": "FiCG-52gSrAY",
        "outputId": "2d35e247-bc0e-4758-b1e4-7556bca9dc47"
      },
      "source": [
        "df.isnull().sum()"
      ],
      "execution_count": null,
      "outputs": [
        {
          "output_type": "execute_result",
          "data": {
            "text/plain": [
              "name                0\n",
              "MDVP:Fo(Hz)         0\n",
              "MDVP:Fhi(Hz)        0\n",
              "MDVP:Flo(Hz)        0\n",
              "MDVP:Jitter(%)      0\n",
              "MDVP:Jitter(Abs)    0\n",
              "MDVP:RAP            0\n",
              "MDVP:PPQ            0\n",
              "Jitter:DDP          0\n",
              "MDVP:Shimmer        0\n",
              "MDVP:Shimmer(dB)    0\n",
              "Shimmer:APQ3        0\n",
              "Shimmer:APQ5        0\n",
              "MDVP:APQ            0\n",
              "Shimmer:DDA         0\n",
              "NHR                 0\n",
              "HNR                 0\n",
              "status              0\n",
              "RPDE                0\n",
              "DFA                 0\n",
              "spread1             0\n",
              "spread2             0\n",
              "D2                  0\n",
              "PPE                 0\n",
              "dtype: int64"
            ]
          },
          "metadata": {},
          "execution_count": 12
        }
      ]
    },
    {
      "cell_type": "code",
      "metadata": {
        "id": "3gYgBhY7S_ui"
      },
      "source": [
        "X = df.drop(['name','status'],axis=1)\n",
        "y = df['status']"
      ],
      "execution_count": null,
      "outputs": []
    },
    {
      "cell_type": "code",
      "metadata": {
        "id": "FsAbABp4S_w-"
      },
      "source": [
        "x_train, x_test, y_train, y_test = train_test_split(X,y,test_size=0.2,random_state=seed)"
      ],
      "execution_count": null,
      "outputs": []
    },
    {
      "cell_type": "markdown",
      "metadata": {
        "id": "mcxgHSR_TTrj"
      },
      "source": [
        "MODELS"
      ]
    },
    {
      "cell_type": "markdown",
      "metadata": {
        "id": "RcQ0O02QTN3t"
      },
      "source": [
        "*   Logistic Regression.\n",
        "*   Support Vector Classifier.\n",
        "*   Extreme Gradient Boosting.\n",
        "*   GridSearchCV to hyperparameter tune all of them.\n",
        "*   StackingClassifier to Stack all of them into an Ensemble.\n"
      ]
    },
    {
      "cell_type": "markdown",
      "metadata": {
        "id": "g66U3oZDDhR1"
      },
      "source": [
        "Logistic Regrssion"
      ]
    },
    {
      "cell_type": "code",
      "metadata": {
        "colab": {
          "base_uri": "https://localhost:8080/"
        },
        "id": "huZJKiecUEHq",
        "outputId": "60dfe130-ec17-4929-f2a2-b60b2a3920b2"
      },
      "source": [
        "parameters = {'penalty': ['l1', 'l2'], \n",
        "              'C': [0.1, 0.4, 0.8, 1, 2, 5,10,20,30]}    \n",
        "\n",
        "grid_search=GridSearchCV(estimator=LogisticRegression() ,param_grid=parameters,cv=10,n_jobs=-1,verbose=2)\n",
        "grid_search.fit(x_train,y_train)\n",
        "\n",
        "log_reg = grid_search.best_estimator_\n",
        "\n",
        "grid_search.best_params_\n",
        "y_pred=log_reg.predict(x_test)"
      ],
      "execution_count": null,
      "outputs": [
        {
          "output_type": "stream",
          "name": "stdout",
          "text": [
            "Fitting 10 folds for each of 18 candidates, totalling 180 fits\n"
          ]
        },
        {
          "output_type": "stream",
          "name": "stderr",
          "text": [
            "[Parallel(n_jobs=-1)]: Using backend LokyBackend with 2 concurrent workers.\n",
            "[Parallel(n_jobs=-1)]: Done 130 tasks      | elapsed:    3.2s\n",
            "[Parallel(n_jobs=-1)]: Done 180 out of 180 | elapsed:    3.9s finished\n",
            "/usr/local/lib/python3.7/dist-packages/sklearn/linear_model/_logistic.py:940: ConvergenceWarning: lbfgs failed to converge (status=1):\n",
            "STOP: TOTAL NO. of ITERATIONS REACHED LIMIT.\n",
            "\n",
            "Increase the number of iterations (max_iter) or scale the data as shown in:\n",
            "    https://scikit-learn.org/stable/modules/preprocessing.html\n",
            "Please also refer to the documentation for alternative solver options:\n",
            "    https://scikit-learn.org/stable/modules/linear_model.html#logistic-regression\n",
            "  extra_warning_msg=_LOGISTIC_SOLVER_CONVERGENCE_MSG)\n"
          ]
        }
      ]
    },
    {
      "cell_type": "code",
      "metadata": {
        "colab": {
          "base_uri": "https://localhost:8080/"
        },
        "id": "CgGX_fbWUEJ_",
        "outputId": "c4d6c365-9083-49d3-c53d-90a6dfe111f2"
      },
      "source": [
        "print(\"\\n\",confusion_matrix(y_test,y_pred))"
      ],
      "execution_count": null,
      "outputs": [
        {
          "output_type": "stream",
          "name": "stdout",
          "text": [
            "\n",
            " [[ 3  4]\n",
            " [ 0 32]]\n"
          ]
        }
      ]
    },
    {
      "cell_type": "code",
      "metadata": {
        "colab": {
          "base_uri": "https://localhost:8080/"
        },
        "id": "Yu84_MoGUEL3",
        "outputId": "2fa472bc-94d8-4677-aa6c-e8ddbb4772c1"
      },
      "source": [
        "log_reg_acc = accuracy_score(y_test,y_pred)\n",
        "print(\"\\nAccuracy Score {}\".format(log_reg_acc))"
      ],
      "execution_count": null,
      "outputs": [
        {
          "output_type": "stream",
          "name": "stdout",
          "text": [
            "\n",
            "Accuracy Score 0.8974358974358975\n"
          ]
        }
      ]
    },
    {
      "cell_type": "code",
      "metadata": {
        "colab": {
          "base_uri": "https://localhost:8080/"
        },
        "id": "RpV-t6w5UENj",
        "outputId": "5a87d6f3-628f-417f-a25d-fae815526108"
      },
      "source": [
        "print(\"Classification report: \\n{}\".format(classification_report(y_test,y_pred)))"
      ],
      "execution_count": null,
      "outputs": [
        {
          "output_type": "stream",
          "name": "stdout",
          "text": [
            "Classification report: \n",
            "              precision    recall  f1-score   support\n",
            "\n",
            "           0       1.00      0.43      0.60         7\n",
            "           1       0.89      1.00      0.94        32\n",
            "\n",
            "    accuracy                           0.90        39\n",
            "   macro avg       0.94      0.71      0.77        39\n",
            "weighted avg       0.91      0.90      0.88        39\n",
            "\n"
          ]
        }
      ]
    },
    {
      "cell_type": "markdown",
      "metadata": {
        "id": "yMIA7uaSDpnx"
      },
      "source": [
        "Support Vector Machine"
      ]
    },
    {
      "cell_type": "code",
      "metadata": {
        "colab": {
          "base_uri": "https://localhost:8080/"
        },
        "id": "PbYOVxouWl0B",
        "outputId": "24af693d-4d57-470c-c614-b79765d57ee1"
      },
      "source": [
        "from sklearn.svm import LinearSVC\n",
        "\n",
        "svc = LinearSVC()\n",
        "\n",
        "parameters = {\n",
        "      'penalty':['l1', 'l2'],\n",
        "      'max_iter': [10,20,50,100,1000], \n",
        "      'C': [0.1, 0.4, 0.8, 1, 2, 5,10,20,30],          \n",
        "              }\n",
        "\n",
        "grid_search=GridSearchCV(estimator=svc ,param_grid=parameters,cv=10,n_jobs=-1,verbose=2)\n",
        "grid_search.fit(x_train,y_train)\n",
        "\n",
        "svc = grid_search.best_estimator_\n",
        "\n",
        "grid_search.best_params_"
      ],
      "execution_count": null,
      "outputs": [
        {
          "output_type": "stream",
          "name": "stdout",
          "text": [
            "Fitting 10 folds for each of 90 candidates, totalling 900 fits\n"
          ]
        },
        {
          "output_type": "stream",
          "name": "stderr",
          "text": [
            "[Parallel(n_jobs=-1)]: Using backend LokyBackend with 2 concurrent workers.\n",
            "[Parallel(n_jobs=-1)]: Done 785 tasks      | elapsed:    3.1s\n",
            "[Parallel(n_jobs=-1)]: Done 897 out of 900 | elapsed:    3.4s remaining:    0.0s\n",
            "[Parallel(n_jobs=-1)]: Done 900 out of 900 | elapsed:    3.5s finished\n",
            "/usr/local/lib/python3.7/dist-packages/sklearn/svm/_base.py:947: ConvergenceWarning: Liblinear failed to converge, increase the number of iterations.\n",
            "  \"the number of iterations.\", ConvergenceWarning)\n"
          ]
        },
        {
          "output_type": "execute_result",
          "data": {
            "text/plain": [
              "{'C': 2, 'max_iter': 20, 'penalty': 'l2'}"
            ]
          },
          "metadata": {},
          "execution_count": 19
        }
      ]
    },
    {
      "cell_type": "code",
      "metadata": {
        "colab": {
          "base_uri": "https://localhost:8080/"
        },
        "id": "gdsQQGsLWl2K",
        "outputId": "d2490593-a983-4e5a-cacf-fdc02c5ee4c2"
      },
      "source": [
        "y_pred=svc.predict(x_test)\n",
        "\n",
        "print(\"\\n\",confusion_matrix(y_test,y_pred))\n",
        "svc_acc = accuracy_score(y_test,y_pred)\n",
        "print(\"\\nAccuracy Score {}\".format(svc_acc))\n",
        "print(\"Classification report: \\n{}\".format(classification_report(y_test,y_pred)))"
      ],
      "execution_count": null,
      "outputs": [
        {
          "output_type": "stream",
          "name": "stdout",
          "text": [
            "\n",
            " [[ 0  7]\n",
            " [ 0 32]]\n",
            "\n",
            "Accuracy Score 0.8205128205128205\n",
            "Classification report: \n",
            "              precision    recall  f1-score   support\n",
            "\n",
            "           0       0.00      0.00      0.00         7\n",
            "           1       0.82      1.00      0.90        32\n",
            "\n",
            "    accuracy                           0.82        39\n",
            "   macro avg       0.41      0.50      0.45        39\n",
            "weighted avg       0.67      0.82      0.74        39\n",
            "\n"
          ]
        },
        {
          "output_type": "stream",
          "name": "stderr",
          "text": [
            "/usr/local/lib/python3.7/dist-packages/sklearn/metrics/_classification.py:1272: UndefinedMetricWarning: Precision and F-score are ill-defined and being set to 0.0 in labels with no predicted samples. Use `zero_division` parameter to control this behavior.\n",
            "  _warn_prf(average, modifier, msg_start, len(result))\n"
          ]
        }
      ]
    },
    {
      "cell_type": "markdown",
      "metadata": {
        "id": "MT4FVcq5EEjn"
      },
      "source": [
        "eXtreme Gradient Boosting"
      ]
    },
    {
      "cell_type": "code",
      "metadata": {
        "colab": {
          "base_uri": "https://localhost:8080/"
        },
        "id": "B9eRKMdsWl5y",
        "outputId": "8aa721fd-c6e4-4b64-dc79-2054e7e1a669"
      },
      "source": [
        "xgb = XGBClassifier()\n",
        "\n",
        "parameters = {'min_child_weight' : np.arange(0,20),\n",
        "              'max_depth': [2, 4, 5, 7, 9, 10]}\n",
        "\n",
        "grid_search=GridSearchCV(estimator=xgb ,param_grid=parameters,cv=10,n_jobs=-1,verbose=2)\n",
        "grid_search.fit(x_train,y_train)\n",
        "\n",
        "xgb = grid_search.best_estimator_\n",
        "\n",
        "grid_search.best_params_"
      ],
      "execution_count": null,
      "outputs": [
        {
          "output_type": "stream",
          "name": "stdout",
          "text": [
            "Fitting 10 folds for each of 120 candidates, totalling 1200 fits\n"
          ]
        },
        {
          "output_type": "stream",
          "name": "stderr",
          "text": [
            "[Parallel(n_jobs=-1)]: Using backend LokyBackend with 2 concurrent workers.\n",
            "[Parallel(n_jobs=-1)]: Done 110 tasks      | elapsed:    2.4s\n",
            "[Parallel(n_jobs=-1)]: Done 594 tasks      | elapsed:   11.1s\n",
            "[Parallel(n_jobs=-1)]: Done 1200 out of 1200 | elapsed:   22.6s finished\n"
          ]
        },
        {
          "output_type": "execute_result",
          "data": {
            "text/plain": [
              "{'max_depth': 5, 'min_child_weight': 1}"
            ]
          },
          "metadata": {},
          "execution_count": 21
        }
      ]
    },
    {
      "cell_type": "code",
      "metadata": {
        "colab": {
          "base_uri": "https://localhost:8080/"
        },
        "id": "p05wITOaWl9b",
        "outputId": "fbd79209-027c-478d-b6b5-36966204d5b7"
      },
      "source": [
        "y_pred=xgb.predict(x_test)\n",
        "\n",
        "print(\"\\n\",confusion_matrix(y_test,y_pred))\n",
        "xgb_acc = accuracy_score(y_test,y_pred)\n",
        "print(\"\\nAccuracy Score {}\".format(xgb_acc))\n",
        "print(\"Classification report: \\n{}\".format(classification_report(y_test,y_pred)))"
      ],
      "execution_count": null,
      "outputs": [
        {
          "output_type": "stream",
          "name": "stdout",
          "text": [
            "\n",
            " [[ 5  2]\n",
            " [ 0 32]]\n",
            "\n",
            "Accuracy Score 0.9487179487179487\n",
            "Classification report: \n",
            "              precision    recall  f1-score   support\n",
            "\n",
            "           0       1.00      0.71      0.83         7\n",
            "           1       0.94      1.00      0.97        32\n",
            "\n",
            "    accuracy                           0.95        39\n",
            "   macro avg       0.97      0.86      0.90        39\n",
            "weighted avg       0.95      0.95      0.95        39\n",
            "\n"
          ]
        }
      ]
    },
    {
      "cell_type": "markdown",
      "metadata": {
        "id": "K4_MhuQLEScP"
      },
      "source": [
        "Stacking Classifier Ensemble"
      ]
    },
    {
      "cell_type": "code",
      "metadata": {
        "colab": {
          "base_uri": "https://localhost:8080/"
        },
        "id": "P-skRhNrWmAw",
        "outputId": "4b1590e8-28b5-47a3-cd08-fb18aa8553b7"
      },
      "source": [
        "estimators = [ ('xgb', xgb ), \n",
        "              ('svc',svc ),\n",
        "              ('log_Reg', log_reg)]\n",
        "\n",
        "\n",
        "stack =StackingClassifier(estimators=estimators ,final_estimator= svc)\n",
        "\n",
        "stack.fit(x_train,y_train)\n",
        "stack_predicted = stack.predict(x_test)\n",
        "\n",
        "stack_conf_matrix = confusion_matrix(y_test, stack_predicted)\n",
        "stack_acc_score = accuracy_score(y_test, stack_predicted)\n",
        "\n",
        "print(\"confussion matrix\")\n",
        "print(stack_conf_matrix)\n",
        "print(\"\\n\")\n",
        "print(\"Accuracy of Stacking Classifier:\",stack_acc_score*100,'\\n')\n",
        "print(classification_report(y_test,stack_predicted))"
      ],
      "execution_count": null,
      "outputs": [
        {
          "output_type": "stream",
          "name": "stderr",
          "text": [
            "/usr/local/lib/python3.7/dist-packages/sklearn/svm/_base.py:947: ConvergenceWarning: Liblinear failed to converge, increase the number of iterations.\n",
            "  \"the number of iterations.\", ConvergenceWarning)\n",
            "/usr/local/lib/python3.7/dist-packages/sklearn/linear_model/_logistic.py:940: ConvergenceWarning: lbfgs failed to converge (status=1):\n",
            "STOP: TOTAL NO. of ITERATIONS REACHED LIMIT.\n",
            "\n",
            "Increase the number of iterations (max_iter) or scale the data as shown in:\n",
            "    https://scikit-learn.org/stable/modules/preprocessing.html\n",
            "Please also refer to the documentation for alternative solver options:\n",
            "    https://scikit-learn.org/stable/modules/linear_model.html#logistic-regression\n",
            "  extra_warning_msg=_LOGISTIC_SOLVER_CONVERGENCE_MSG)\n",
            "/usr/local/lib/python3.7/dist-packages/sklearn/svm/_base.py:947: ConvergenceWarning: Liblinear failed to converge, increase the number of iterations.\n",
            "  \"the number of iterations.\", ConvergenceWarning)\n"
          ]
        },
        {
          "output_type": "stream",
          "name": "stdout",
          "text": [
            "confussion matrix\n",
            "[[ 5  2]\n",
            " [ 0 32]]\n",
            "\n",
            "\n",
            "Accuracy of Stacking Classifier: 94.87179487179486 \n",
            "\n",
            "              precision    recall  f1-score   support\n",
            "\n",
            "           0       1.00      0.71      0.83         7\n",
            "           1       0.94      1.00      0.97        32\n",
            "\n",
            "    accuracy                           0.95        39\n",
            "   macro avg       0.97      0.86      0.90        39\n",
            "weighted avg       0.95      0.95      0.95        39\n",
            "\n"
          ]
        },
        {
          "output_type": "stream",
          "name": "stderr",
          "text": [
            "/usr/local/lib/python3.7/dist-packages/sklearn/svm/_base.py:947: ConvergenceWarning: Liblinear failed to converge, increase the number of iterations.\n",
            "  \"the number of iterations.\", ConvergenceWarning)\n",
            "/usr/local/lib/python3.7/dist-packages/sklearn/svm/_base.py:947: ConvergenceWarning: Liblinear failed to converge, increase the number of iterations.\n",
            "  \"the number of iterations.\", ConvergenceWarning)\n",
            "/usr/local/lib/python3.7/dist-packages/sklearn/svm/_base.py:947: ConvergenceWarning: Liblinear failed to converge, increase the number of iterations.\n",
            "  \"the number of iterations.\", ConvergenceWarning)\n",
            "/usr/local/lib/python3.7/dist-packages/sklearn/svm/_base.py:947: ConvergenceWarning: Liblinear failed to converge, increase the number of iterations.\n",
            "  \"the number of iterations.\", ConvergenceWarning)\n",
            "/usr/local/lib/python3.7/dist-packages/sklearn/linear_model/_logistic.py:940: ConvergenceWarning: lbfgs failed to converge (status=1):\n",
            "STOP: TOTAL NO. of ITERATIONS REACHED LIMIT.\n",
            "\n",
            "Increase the number of iterations (max_iter) or scale the data as shown in:\n",
            "    https://scikit-learn.org/stable/modules/preprocessing.html\n",
            "Please also refer to the documentation for alternative solver options:\n",
            "    https://scikit-learn.org/stable/modules/linear_model.html#logistic-regression\n",
            "  extra_warning_msg=_LOGISTIC_SOLVER_CONVERGENCE_MSG)\n",
            "/usr/local/lib/python3.7/dist-packages/sklearn/linear_model/_logistic.py:940: ConvergenceWarning: lbfgs failed to converge (status=1):\n",
            "STOP: TOTAL NO. of ITERATIONS REACHED LIMIT.\n",
            "\n",
            "Increase the number of iterations (max_iter) or scale the data as shown in:\n",
            "    https://scikit-learn.org/stable/modules/preprocessing.html\n",
            "Please also refer to the documentation for alternative solver options:\n",
            "    https://scikit-learn.org/stable/modules/linear_model.html#logistic-regression\n",
            "  extra_warning_msg=_LOGISTIC_SOLVER_CONVERGENCE_MSG)\n",
            "/usr/local/lib/python3.7/dist-packages/sklearn/linear_model/_logistic.py:940: ConvergenceWarning: lbfgs failed to converge (status=1):\n",
            "STOP: TOTAL NO. of ITERATIONS REACHED LIMIT.\n",
            "\n",
            "Increase the number of iterations (max_iter) or scale the data as shown in:\n",
            "    https://scikit-learn.org/stable/modules/preprocessing.html\n",
            "Please also refer to the documentation for alternative solver options:\n",
            "    https://scikit-learn.org/stable/modules/linear_model.html#logistic-regression\n",
            "  extra_warning_msg=_LOGISTIC_SOLVER_CONVERGENCE_MSG)\n",
            "/usr/local/lib/python3.7/dist-packages/sklearn/linear_model/_logistic.py:940: ConvergenceWarning: lbfgs failed to converge (status=1):\n",
            "STOP: TOTAL NO. of ITERATIONS REACHED LIMIT.\n",
            "\n",
            "Increase the number of iterations (max_iter) or scale the data as shown in:\n",
            "    https://scikit-learn.org/stable/modules/preprocessing.html\n",
            "Please also refer to the documentation for alternative solver options:\n",
            "    https://scikit-learn.org/stable/modules/linear_model.html#logistic-regression\n",
            "  extra_warning_msg=_LOGISTIC_SOLVER_CONVERGENCE_MSG)\n",
            "/usr/local/lib/python3.7/dist-packages/sklearn/linear_model/_logistic.py:940: ConvergenceWarning: lbfgs failed to converge (status=1):\n",
            "STOP: TOTAL NO. of ITERATIONS REACHED LIMIT.\n",
            "\n",
            "Increase the number of iterations (max_iter) or scale the data as shown in:\n",
            "    https://scikit-learn.org/stable/modules/preprocessing.html\n",
            "Please also refer to the documentation for alternative solver options:\n",
            "    https://scikit-learn.org/stable/modules/linear_model.html#logistic-regression\n",
            "  extra_warning_msg=_LOGISTIC_SOLVER_CONVERGENCE_MSG)\n",
            "/usr/local/lib/python3.7/dist-packages/sklearn/svm/_base.py:947: ConvergenceWarning: Liblinear failed to converge, increase the number of iterations.\n",
            "  \"the number of iterations.\", ConvergenceWarning)\n"
          ]
        }
      ]
    },
    {
      "cell_type": "code",
      "metadata": {
        "id": "qPFZyMTzpIZK"
      },
      "source": [
        "import pickle\n",
        "with open('pickle_ppmodel','wb') as f:\n",
        "  pickle.dump(stack,f)"
      ],
      "execution_count": null,
      "outputs": []
    },
    {
      "cell_type": "code",
      "metadata": {
        "id": "J0Av_Rm9pIsj",
        "colab": {
          "base_uri": "https://localhost:8080/",
          "height": 439
        },
        "outputId": "b9c33f07-8d3c-4b5d-ad8f-a1414a6bad88"
      },
      "source": [
        ""
      ],
      "execution_count": 25,
      "outputs": [
        {
          "output_type": "execute_result",
          "data": {
            "text/html": [
              "<div>\n",
              "<style scoped>\n",
              "    .dataframe tbody tr th:only-of-type {\n",
              "        vertical-align: middle;\n",
              "    }\n",
              "\n",
              "    .dataframe tbody tr th {\n",
              "        vertical-align: top;\n",
              "    }\n",
              "\n",
              "    .dataframe thead th {\n",
              "        text-align: right;\n",
              "    }\n",
              "</style>\n",
              "<table border=\"1\" class=\"dataframe\">\n",
              "  <thead>\n",
              "    <tr style=\"text-align: right;\">\n",
              "      <th></th>\n",
              "      <th>MDVP:Fo(Hz)</th>\n",
              "      <th>MDVP:Fhi(Hz)</th>\n",
              "      <th>MDVP:Flo(Hz)</th>\n",
              "      <th>MDVP:Jitter(%)</th>\n",
              "      <th>MDVP:Jitter(Abs)</th>\n",
              "      <th>MDVP:RAP</th>\n",
              "      <th>MDVP:PPQ</th>\n",
              "      <th>Jitter:DDP</th>\n",
              "      <th>MDVP:Shimmer</th>\n",
              "      <th>MDVP:Shimmer(dB)</th>\n",
              "      <th>Shimmer:APQ3</th>\n",
              "      <th>Shimmer:APQ5</th>\n",
              "      <th>MDVP:APQ</th>\n",
              "      <th>Shimmer:DDA</th>\n",
              "      <th>NHR</th>\n",
              "      <th>HNR</th>\n",
              "      <th>RPDE</th>\n",
              "      <th>DFA</th>\n",
              "      <th>spread1</th>\n",
              "      <th>spread2</th>\n",
              "      <th>D2</th>\n",
              "      <th>PPE</th>\n",
              "    </tr>\n",
              "  </thead>\n",
              "  <tbody>\n",
              "    <tr>\n",
              "      <th>0</th>\n",
              "      <td>119.992</td>\n",
              "      <td>157.302</td>\n",
              "      <td>74.997</td>\n",
              "      <td>0.00784</td>\n",
              "      <td>0.00007</td>\n",
              "      <td>0.00370</td>\n",
              "      <td>0.00554</td>\n",
              "      <td>0.01109</td>\n",
              "      <td>0.04374</td>\n",
              "      <td>0.426</td>\n",
              "      <td>0.02182</td>\n",
              "      <td>0.03130</td>\n",
              "      <td>0.02971</td>\n",
              "      <td>0.06545</td>\n",
              "      <td>0.02211</td>\n",
              "      <td>21.033</td>\n",
              "      <td>0.414783</td>\n",
              "      <td>0.815285</td>\n",
              "      <td>-4.813031</td>\n",
              "      <td>0.266482</td>\n",
              "      <td>2.301442</td>\n",
              "      <td>0.284654</td>\n",
              "    </tr>\n",
              "    <tr>\n",
              "      <th>1</th>\n",
              "      <td>122.400</td>\n",
              "      <td>148.650</td>\n",
              "      <td>113.819</td>\n",
              "      <td>0.00968</td>\n",
              "      <td>0.00008</td>\n",
              "      <td>0.00465</td>\n",
              "      <td>0.00696</td>\n",
              "      <td>0.01394</td>\n",
              "      <td>0.06134</td>\n",
              "      <td>0.626</td>\n",
              "      <td>0.03134</td>\n",
              "      <td>0.04518</td>\n",
              "      <td>0.04368</td>\n",
              "      <td>0.09403</td>\n",
              "      <td>0.01929</td>\n",
              "      <td>19.085</td>\n",
              "      <td>0.458359</td>\n",
              "      <td>0.819521</td>\n",
              "      <td>-4.075192</td>\n",
              "      <td>0.335590</td>\n",
              "      <td>2.486855</td>\n",
              "      <td>0.368674</td>\n",
              "    </tr>\n",
              "    <tr>\n",
              "      <th>2</th>\n",
              "      <td>116.682</td>\n",
              "      <td>131.111</td>\n",
              "      <td>111.555</td>\n",
              "      <td>0.01050</td>\n",
              "      <td>0.00009</td>\n",
              "      <td>0.00544</td>\n",
              "      <td>0.00781</td>\n",
              "      <td>0.01633</td>\n",
              "      <td>0.05233</td>\n",
              "      <td>0.482</td>\n",
              "      <td>0.02757</td>\n",
              "      <td>0.03858</td>\n",
              "      <td>0.03590</td>\n",
              "      <td>0.08270</td>\n",
              "      <td>0.01309</td>\n",
              "      <td>20.651</td>\n",
              "      <td>0.429895</td>\n",
              "      <td>0.825288</td>\n",
              "      <td>-4.443179</td>\n",
              "      <td>0.311173</td>\n",
              "      <td>2.342259</td>\n",
              "      <td>0.332634</td>\n",
              "    </tr>\n",
              "    <tr>\n",
              "      <th>3</th>\n",
              "      <td>116.676</td>\n",
              "      <td>137.871</td>\n",
              "      <td>111.366</td>\n",
              "      <td>0.00997</td>\n",
              "      <td>0.00009</td>\n",
              "      <td>0.00502</td>\n",
              "      <td>0.00698</td>\n",
              "      <td>0.01505</td>\n",
              "      <td>0.05492</td>\n",
              "      <td>0.517</td>\n",
              "      <td>0.02924</td>\n",
              "      <td>0.04005</td>\n",
              "      <td>0.03772</td>\n",
              "      <td>0.08771</td>\n",
              "      <td>0.01353</td>\n",
              "      <td>20.644</td>\n",
              "      <td>0.434969</td>\n",
              "      <td>0.819235</td>\n",
              "      <td>-4.117501</td>\n",
              "      <td>0.334147</td>\n",
              "      <td>2.405554</td>\n",
              "      <td>0.368975</td>\n",
              "    </tr>\n",
              "    <tr>\n",
              "      <th>4</th>\n",
              "      <td>116.014</td>\n",
              "      <td>141.781</td>\n",
              "      <td>110.655</td>\n",
              "      <td>0.01284</td>\n",
              "      <td>0.00011</td>\n",
              "      <td>0.00655</td>\n",
              "      <td>0.00908</td>\n",
              "      <td>0.01966</td>\n",
              "      <td>0.06425</td>\n",
              "      <td>0.584</td>\n",
              "      <td>0.03490</td>\n",
              "      <td>0.04825</td>\n",
              "      <td>0.04465</td>\n",
              "      <td>0.10470</td>\n",
              "      <td>0.01767</td>\n",
              "      <td>19.649</td>\n",
              "      <td>0.417356</td>\n",
              "      <td>0.823484</td>\n",
              "      <td>-3.747787</td>\n",
              "      <td>0.234513</td>\n",
              "      <td>2.332180</td>\n",
              "      <td>0.410335</td>\n",
              "    </tr>\n",
              "    <tr>\n",
              "      <th>...</th>\n",
              "      <td>...</td>\n",
              "      <td>...</td>\n",
              "      <td>...</td>\n",
              "      <td>...</td>\n",
              "      <td>...</td>\n",
              "      <td>...</td>\n",
              "      <td>...</td>\n",
              "      <td>...</td>\n",
              "      <td>...</td>\n",
              "      <td>...</td>\n",
              "      <td>...</td>\n",
              "      <td>...</td>\n",
              "      <td>...</td>\n",
              "      <td>...</td>\n",
              "      <td>...</td>\n",
              "      <td>...</td>\n",
              "      <td>...</td>\n",
              "      <td>...</td>\n",
              "      <td>...</td>\n",
              "      <td>...</td>\n",
              "      <td>...</td>\n",
              "      <td>...</td>\n",
              "    </tr>\n",
              "    <tr>\n",
              "      <th>190</th>\n",
              "      <td>174.188</td>\n",
              "      <td>230.978</td>\n",
              "      <td>94.261</td>\n",
              "      <td>0.00459</td>\n",
              "      <td>0.00003</td>\n",
              "      <td>0.00263</td>\n",
              "      <td>0.00259</td>\n",
              "      <td>0.00790</td>\n",
              "      <td>0.04087</td>\n",
              "      <td>0.405</td>\n",
              "      <td>0.02336</td>\n",
              "      <td>0.02498</td>\n",
              "      <td>0.02745</td>\n",
              "      <td>0.07008</td>\n",
              "      <td>0.02764</td>\n",
              "      <td>19.517</td>\n",
              "      <td>0.448439</td>\n",
              "      <td>0.657899</td>\n",
              "      <td>-6.538586</td>\n",
              "      <td>0.121952</td>\n",
              "      <td>2.657476</td>\n",
              "      <td>0.133050</td>\n",
              "    </tr>\n",
              "    <tr>\n",
              "      <th>191</th>\n",
              "      <td>209.516</td>\n",
              "      <td>253.017</td>\n",
              "      <td>89.488</td>\n",
              "      <td>0.00564</td>\n",
              "      <td>0.00003</td>\n",
              "      <td>0.00331</td>\n",
              "      <td>0.00292</td>\n",
              "      <td>0.00994</td>\n",
              "      <td>0.02751</td>\n",
              "      <td>0.263</td>\n",
              "      <td>0.01604</td>\n",
              "      <td>0.01657</td>\n",
              "      <td>0.01879</td>\n",
              "      <td>0.04812</td>\n",
              "      <td>0.01810</td>\n",
              "      <td>19.147</td>\n",
              "      <td>0.431674</td>\n",
              "      <td>0.683244</td>\n",
              "      <td>-6.195325</td>\n",
              "      <td>0.129303</td>\n",
              "      <td>2.784312</td>\n",
              "      <td>0.168895</td>\n",
              "    </tr>\n",
              "    <tr>\n",
              "      <th>192</th>\n",
              "      <td>174.688</td>\n",
              "      <td>240.005</td>\n",
              "      <td>74.287</td>\n",
              "      <td>0.01360</td>\n",
              "      <td>0.00008</td>\n",
              "      <td>0.00624</td>\n",
              "      <td>0.00564</td>\n",
              "      <td>0.01873</td>\n",
              "      <td>0.02308</td>\n",
              "      <td>0.256</td>\n",
              "      <td>0.01268</td>\n",
              "      <td>0.01365</td>\n",
              "      <td>0.01667</td>\n",
              "      <td>0.03804</td>\n",
              "      <td>0.10715</td>\n",
              "      <td>17.883</td>\n",
              "      <td>0.407567</td>\n",
              "      <td>0.655683</td>\n",
              "      <td>-6.787197</td>\n",
              "      <td>0.158453</td>\n",
              "      <td>2.679772</td>\n",
              "      <td>0.131728</td>\n",
              "    </tr>\n",
              "    <tr>\n",
              "      <th>193</th>\n",
              "      <td>198.764</td>\n",
              "      <td>396.961</td>\n",
              "      <td>74.904</td>\n",
              "      <td>0.00740</td>\n",
              "      <td>0.00004</td>\n",
              "      <td>0.00370</td>\n",
              "      <td>0.00390</td>\n",
              "      <td>0.01109</td>\n",
              "      <td>0.02296</td>\n",
              "      <td>0.241</td>\n",
              "      <td>0.01265</td>\n",
              "      <td>0.01321</td>\n",
              "      <td>0.01588</td>\n",
              "      <td>0.03794</td>\n",
              "      <td>0.07223</td>\n",
              "      <td>19.020</td>\n",
              "      <td>0.451221</td>\n",
              "      <td>0.643956</td>\n",
              "      <td>-6.744577</td>\n",
              "      <td>0.207454</td>\n",
              "      <td>2.138608</td>\n",
              "      <td>0.123306</td>\n",
              "    </tr>\n",
              "    <tr>\n",
              "      <th>194</th>\n",
              "      <td>214.289</td>\n",
              "      <td>260.277</td>\n",
              "      <td>77.973</td>\n",
              "      <td>0.00567</td>\n",
              "      <td>0.00003</td>\n",
              "      <td>0.00295</td>\n",
              "      <td>0.00317</td>\n",
              "      <td>0.00885</td>\n",
              "      <td>0.01884</td>\n",
              "      <td>0.190</td>\n",
              "      <td>0.01026</td>\n",
              "      <td>0.01161</td>\n",
              "      <td>0.01373</td>\n",
              "      <td>0.03078</td>\n",
              "      <td>0.04398</td>\n",
              "      <td>21.209</td>\n",
              "      <td>0.462803</td>\n",
              "      <td>0.664357</td>\n",
              "      <td>-5.724056</td>\n",
              "      <td>0.190667</td>\n",
              "      <td>2.555477</td>\n",
              "      <td>0.148569</td>\n",
              "    </tr>\n",
              "  </tbody>\n",
              "</table>\n",
              "<p>195 rows × 22 columns</p>\n",
              "</div>"
            ],
            "text/plain": [
              "     MDVP:Fo(Hz)  MDVP:Fhi(Hz)  MDVP:Flo(Hz)  ...   spread2        D2       PPE\n",
              "0        119.992       157.302        74.997  ...  0.266482  2.301442  0.284654\n",
              "1        122.400       148.650       113.819  ...  0.335590  2.486855  0.368674\n",
              "2        116.682       131.111       111.555  ...  0.311173  2.342259  0.332634\n",
              "3        116.676       137.871       111.366  ...  0.334147  2.405554  0.368975\n",
              "4        116.014       141.781       110.655  ...  0.234513  2.332180  0.410335\n",
              "..           ...           ...           ...  ...       ...       ...       ...\n",
              "190      174.188       230.978        94.261  ...  0.121952  2.657476  0.133050\n",
              "191      209.516       253.017        89.488  ...  0.129303  2.784312  0.168895\n",
              "192      174.688       240.005        74.287  ...  0.158453  2.679772  0.131728\n",
              "193      198.764       396.961        74.904  ...  0.207454  2.138608  0.123306\n",
              "194      214.289       260.277        77.973  ...  0.190667  2.555477  0.148569\n",
              "\n",
              "[195 rows x 22 columns]"
            ]
          },
          "metadata": {},
          "execution_count": 25
        }
      ]
    }
  ]
}